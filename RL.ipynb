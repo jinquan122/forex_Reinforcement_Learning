{
 "cells": [
  {
   "cell_type": "code",
   "execution_count": 1,
   "metadata": {},
   "outputs": [],
   "source": [
    "##!pip install --upgrade git+https://github.com/yhilpisch/tpqoa.git"
   ]
  },
  {
   "cell_type": "code",
   "execution_count": 2,
   "metadata": {},
   "outputs": [],
   "source": [
    "import os\n",
    "import time\n",
    "import numpy as np\n",
    "import pandas as pd\n",
    "from pprint import pprint\n",
    "from pylab import plt, mpl\n",
    "import tpqoa\n",
    "plt.style.use('seaborn')\n",
    "mpl.rcParams['savefig.dpi'] = 300\n",
    "mpl.rcParams['font.family'] = 'serif'\n",
    "pd.set_option('mode.chained_assignment', None)\n",
    "pd.set_option('display.float_format', '{:.5f}'.format)\n",
    "np.set_printoptions(suppress=True, precision=4)\n",
    "os.environ['PYTHONHASHSEED'] = '0'\n",
    "os.environ['TF_CPP_MIN_LOG_LEVEL'] = '5'"
   ]
  },
  {
   "cell_type": "code",
   "execution_count": 3,
   "metadata": {},
   "outputs": [
    {
     "data": {
      "text/plain": [
       "[('AUD/CAD', 'AUD_CAD'),\n",
       " ('AUD/CHF', 'AUD_CHF'),\n",
       " ('AUD/HKD', 'AUD_HKD'),\n",
       " ('AUD/JPY', 'AUD_JPY'),\n",
       " ('AUD/NZD', 'AUD_NZD')]"
      ]
     },
     "execution_count": 3,
     "metadata": {},
     "output_type": "execute_result"
    }
   ],
   "source": [
    "path = '/Users/dylanyap/working_file/'\n",
    "api = tpqoa.tpqoa(path + 'crudential.cfg')\n",
    "ins = api.get_instruments()\n",
    "ins[:5]"
   ]
  },
  {
   "cell_type": "code",
   "execution_count": 4,
   "metadata": {},
   "outputs": [],
   "source": [
    "raw = api.get_history(instrument='GBP_USD',\n",
    " start='2010.01.01',\n",
    " end='2022.12.25',\n",
    " granularity='M5',\n",
    " price='M')"
   ]
  },
  {
   "cell_type": "code",
   "execution_count": 5,
   "metadata": {},
   "outputs": [
    {
     "data": {
      "text/plain": [
       "(970182, 6)"
      ]
     },
     "execution_count": 5,
     "metadata": {},
     "output_type": "execute_result"
    }
   ],
   "source": [
    "raw.shape"
   ]
  },
  {
   "cell_type": "code",
   "execution_count": 6,
   "metadata": {},
   "outputs": [
    {
     "data": {
      "text/html": [
       "<div>\n",
       "<style scoped>\n",
       "    .dataframe tbody tr th:only-of-type {\n",
       "        vertical-align: middle;\n",
       "    }\n",
       "\n",
       "    .dataframe tbody tr th {\n",
       "        vertical-align: top;\n",
       "    }\n",
       "\n",
       "    .dataframe thead th {\n",
       "        text-align: right;\n",
       "    }\n",
       "</style>\n",
       "<table border=\"1\" class=\"dataframe\">\n",
       "  <thead>\n",
       "    <tr style=\"text-align: right;\">\n",
       "      <th></th>\n",
       "      <th>o</th>\n",
       "      <th>h</th>\n",
       "      <th>l</th>\n",
       "      <th>c</th>\n",
       "      <th>volume</th>\n",
       "      <th>complete</th>\n",
       "    </tr>\n",
       "    <tr>\n",
       "      <th>time</th>\n",
       "      <th></th>\n",
       "      <th></th>\n",
       "      <th></th>\n",
       "      <th></th>\n",
       "      <th></th>\n",
       "      <th></th>\n",
       "    </tr>\n",
       "  </thead>\n",
       "  <tbody>\n",
       "    <tr>\n",
       "      <th>2010-01-03 18:10:00</th>\n",
       "      <td>1.61592</td>\n",
       "      <td>1.61592</td>\n",
       "      <td>1.61578</td>\n",
       "      <td>1.61592</td>\n",
       "      <td>3</td>\n",
       "      <td>True</td>\n",
       "    </tr>\n",
       "    <tr>\n",
       "      <th>2010-01-03 18:20:00</th>\n",
       "      <td>1.61601</td>\n",
       "      <td>1.61685</td>\n",
       "      <td>1.61567</td>\n",
       "      <td>1.61685</td>\n",
       "      <td>3</td>\n",
       "      <td>True</td>\n",
       "    </tr>\n",
       "    <tr>\n",
       "      <th>2010-01-03 18:25:00</th>\n",
       "      <td>1.61635</td>\n",
       "      <td>1.61635</td>\n",
       "      <td>1.61575</td>\n",
       "      <td>1.61635</td>\n",
       "      <td>4</td>\n",
       "      <td>True</td>\n",
       "    </tr>\n",
       "    <tr>\n",
       "      <th>2010-01-03 18:30:00</th>\n",
       "      <td>1.61560</td>\n",
       "      <td>1.61635</td>\n",
       "      <td>1.61535</td>\n",
       "      <td>1.61610</td>\n",
       "      <td>5</td>\n",
       "      <td>True</td>\n",
       "    </tr>\n",
       "    <tr>\n",
       "      <th>2010-01-03 18:35:00</th>\n",
       "      <td>1.61635</td>\n",
       "      <td>1.61635</td>\n",
       "      <td>1.61635</td>\n",
       "      <td>1.61635</td>\n",
       "      <td>1</td>\n",
       "      <td>True</td>\n",
       "    </tr>\n",
       "  </tbody>\n",
       "</table>\n",
       "</div>"
      ],
      "text/plain": [
       "                          o       h       l       c  volume  complete\n",
       "time                                                                 \n",
       "2010-01-03 18:10:00 1.61592 1.61592 1.61578 1.61592       3      True\n",
       "2010-01-03 18:20:00 1.61601 1.61685 1.61567 1.61685       3      True\n",
       "2010-01-03 18:25:00 1.61635 1.61635 1.61575 1.61635       4      True\n",
       "2010-01-03 18:30:00 1.61560 1.61635 1.61535 1.61610       5      True\n",
       "2010-01-03 18:35:00 1.61635 1.61635 1.61635 1.61635       1      True"
      ]
     },
     "execution_count": 6,
     "metadata": {},
     "output_type": "execute_result"
    }
   ],
   "source": [
    "raw.head()"
   ]
  },
  {
   "cell_type": "code",
   "execution_count": 7,
   "metadata": {},
   "outputs": [
    {
     "name": "stderr",
     "output_type": "stream",
     "text": [
      "/opt/anaconda3/lib/python3.9/site-packages/pyfolio/pos.py:26: UserWarning: Module \"zipline.assets\" not found; mutltipliers will not be applied to position notionals.\n",
      "  warnings.warn(\n"
     ]
    }
   ],
   "source": [
    "import pandas as pd\n",
    "import numpy as np\n",
    "import matplotlib\n",
    "import matplotlib.pyplot as plt\n",
    "# matplotlib.use('Agg')\n",
    "import datetime\n",
    "\n",
    "%matplotlib inline\n",
    "from finrl.meta.preprocessor.yahoodownloader import YahooDownloader\n",
    "from finrl.meta.preprocessor.preprocessors import FeatureEngineer, data_split\n",
    "from finrl.meta.env_stock_trading.env_stocktrading import StockTradingEnv\n",
    "from finrl.agents.stablebaselines3.models import DRLAgent\n",
    "from stable_baselines3.common.logger import configure\n",
    "from finrl.meta.data_processor import DataProcessor\n",
    "\n",
    "from finrl.plot import backtest_stats, backtest_plot, get_daily_return, get_baseline\n",
    "from pprint import pprint\n",
    "\n",
    "import sys\n",
    "sys.path.append(\"../FinRL\")\n",
    "\n",
    "import itertools"
   ]
  },
  {
   "cell_type": "code",
   "execution_count": 33,
   "metadata": {},
   "outputs": [],
   "source": [
    "from finrl import config\n",
    "from finrl import config_tickers\n",
    "import os\n",
    "from finrl.main import check_and_make_directories\n",
    "from finrl.config import (\n",
    "    DATA_SAVE_DIR,\n",
    "    TRAINED_MODEL_DIR,\n",
    "    TENSORBOARD_LOG_DIR,\n",
    "    RESULTS_DIR,\n",
    "    INDICATORS,\n",
    "    TRAIN_START_DATE,\n",
    "    TRAIN_END_DATE,\n",
    "    TEST_START_DATE,\n",
    "    TEST_END_DATE,\n",
    "    TRADE_START_DATE,\n",
    "    TRADE_END_DATE,\n",
    ")\n",
    "check_and_make_directories([DATA_SAVE_DIR, TRAINED_MODEL_DIR, TENSORBOARD_LOG_DIR, RESULTS_DIR])"
   ]
  },
  {
   "cell_type": "code",
   "execution_count": 34,
   "metadata": {},
   "outputs": [],
   "source": [
    "TRAIN_START = '2010-01-01'\n",
    "TRAIN_END = '2022-10-01'\n",
    "TRADE_START = '2022-10-01'\n",
    "TRADE_END = '2022-12-25'"
   ]
  },
  {
   "cell_type": "code",
   "execution_count": 10,
   "metadata": {},
   "outputs": [],
   "source": [
    "INDICATORS = ['macd',\n",
    "              'rsi_30',\n",
    "              'cci_30',\n",
    "              'dx_30',\n",
    "              'close_30_sma',\n",
    "              'close_60_sma',\n",
    "              'boll_ub',\n",
    "              'boll_lb']"
   ]
  },
  {
   "cell_type": "code",
   "execution_count": 11,
   "metadata": {},
   "outputs": [],
   "source": [
    "raw = raw.reset_index()\n",
    "raw.columns = [\"date\", \"open\", \"high\", \"low\", \"close\", \"volume\", \"tic\"]"
   ]
  },
  {
   "cell_type": "code",
   "execution_count": 12,
   "metadata": {},
   "outputs": [
    {
     "data": {
      "text/html": [
       "<div>\n",
       "<style scoped>\n",
       "    .dataframe tbody tr th:only-of-type {\n",
       "        vertical-align: middle;\n",
       "    }\n",
       "\n",
       "    .dataframe tbody tr th {\n",
       "        vertical-align: top;\n",
       "    }\n",
       "\n",
       "    .dataframe thead th {\n",
       "        text-align: right;\n",
       "    }\n",
       "</style>\n",
       "<table border=\"1\" class=\"dataframe\">\n",
       "  <thead>\n",
       "    <tr style=\"text-align: right;\">\n",
       "      <th></th>\n",
       "      <th>date</th>\n",
       "      <th>open</th>\n",
       "      <th>high</th>\n",
       "      <th>low</th>\n",
       "      <th>close</th>\n",
       "      <th>volume</th>\n",
       "      <th>tic</th>\n",
       "    </tr>\n",
       "  </thead>\n",
       "  <tbody>\n",
       "    <tr>\n",
       "      <th>0</th>\n",
       "      <td>2010-01-03 18:10:00</td>\n",
       "      <td>1.61592</td>\n",
       "      <td>1.61592</td>\n",
       "      <td>1.61578</td>\n",
       "      <td>1.61592</td>\n",
       "      <td>3</td>\n",
       "      <td>True</td>\n",
       "    </tr>\n",
       "    <tr>\n",
       "      <th>1</th>\n",
       "      <td>2010-01-03 18:20:00</td>\n",
       "      <td>1.61601</td>\n",
       "      <td>1.61685</td>\n",
       "      <td>1.61567</td>\n",
       "      <td>1.61685</td>\n",
       "      <td>3</td>\n",
       "      <td>True</td>\n",
       "    </tr>\n",
       "    <tr>\n",
       "      <th>2</th>\n",
       "      <td>2010-01-03 18:25:00</td>\n",
       "      <td>1.61635</td>\n",
       "      <td>1.61635</td>\n",
       "      <td>1.61575</td>\n",
       "      <td>1.61635</td>\n",
       "      <td>4</td>\n",
       "      <td>True</td>\n",
       "    </tr>\n",
       "    <tr>\n",
       "      <th>3</th>\n",
       "      <td>2010-01-03 18:30:00</td>\n",
       "      <td>1.61560</td>\n",
       "      <td>1.61635</td>\n",
       "      <td>1.61535</td>\n",
       "      <td>1.61610</td>\n",
       "      <td>5</td>\n",
       "      <td>True</td>\n",
       "    </tr>\n",
       "    <tr>\n",
       "      <th>4</th>\n",
       "      <td>2010-01-03 18:35:00</td>\n",
       "      <td>1.61635</td>\n",
       "      <td>1.61635</td>\n",
       "      <td>1.61635</td>\n",
       "      <td>1.61635</td>\n",
       "      <td>1</td>\n",
       "      <td>True</td>\n",
       "    </tr>\n",
       "    <tr>\n",
       "      <th>...</th>\n",
       "      <td>...</td>\n",
       "      <td>...</td>\n",
       "      <td>...</td>\n",
       "      <td>...</td>\n",
       "      <td>...</td>\n",
       "      <td>...</td>\n",
       "      <td>...</td>\n",
       "    </tr>\n",
       "    <tr>\n",
       "      <th>970177</th>\n",
       "      <td>2022-12-23 21:35:00</td>\n",
       "      <td>1.20490</td>\n",
       "      <td>1.20523</td>\n",
       "      <td>1.20486</td>\n",
       "      <td>1.20508</td>\n",
       "      <td>315</td>\n",
       "      <td>True</td>\n",
       "    </tr>\n",
       "    <tr>\n",
       "      <th>970178</th>\n",
       "      <td>2022-12-23 21:40:00</td>\n",
       "      <td>1.20504</td>\n",
       "      <td>1.20506</td>\n",
       "      <td>1.20477</td>\n",
       "      <td>1.20478</td>\n",
       "      <td>395</td>\n",
       "      <td>True</td>\n",
       "    </tr>\n",
       "    <tr>\n",
       "      <th>970179</th>\n",
       "      <td>2022-12-23 21:45:00</td>\n",
       "      <td>1.20478</td>\n",
       "      <td>1.20502</td>\n",
       "      <td>1.20465</td>\n",
       "      <td>1.20496</td>\n",
       "      <td>599</td>\n",
       "      <td>True</td>\n",
       "    </tr>\n",
       "    <tr>\n",
       "      <th>970180</th>\n",
       "      <td>2022-12-23 21:50:00</td>\n",
       "      <td>1.20496</td>\n",
       "      <td>1.20518</td>\n",
       "      <td>1.20478</td>\n",
       "      <td>1.20512</td>\n",
       "      <td>607</td>\n",
       "      <td>True</td>\n",
       "    </tr>\n",
       "    <tr>\n",
       "      <th>970181</th>\n",
       "      <td>2022-12-23 21:55:00</td>\n",
       "      <td>1.20508</td>\n",
       "      <td>1.20528</td>\n",
       "      <td>1.20496</td>\n",
       "      <td>1.20512</td>\n",
       "      <td>270</td>\n",
       "      <td>True</td>\n",
       "    </tr>\n",
       "  </tbody>\n",
       "</table>\n",
       "<p>970182 rows × 7 columns</p>\n",
       "</div>"
      ],
      "text/plain": [
       "                      date    open    high     low   close  volume   tic\n",
       "0      2010-01-03 18:10:00 1.61592 1.61592 1.61578 1.61592       3  True\n",
       "1      2010-01-03 18:20:00 1.61601 1.61685 1.61567 1.61685       3  True\n",
       "2      2010-01-03 18:25:00 1.61635 1.61635 1.61575 1.61635       4  True\n",
       "3      2010-01-03 18:30:00 1.61560 1.61635 1.61535 1.61610       5  True\n",
       "4      2010-01-03 18:35:00 1.61635 1.61635 1.61635 1.61635       1  True\n",
       "...                    ...     ...     ...     ...     ...     ...   ...\n",
       "970177 2022-12-23 21:35:00 1.20490 1.20523 1.20486 1.20508     315  True\n",
       "970178 2022-12-23 21:40:00 1.20504 1.20506 1.20477 1.20478     395  True\n",
       "970179 2022-12-23 21:45:00 1.20478 1.20502 1.20465 1.20496     599  True\n",
       "970180 2022-12-23 21:50:00 1.20496 1.20518 1.20478 1.20512     607  True\n",
       "970181 2022-12-23 21:55:00 1.20508 1.20528 1.20496 1.20512     270  True\n",
       "\n",
       "[970182 rows x 7 columns]"
      ]
     },
     "execution_count": 12,
     "metadata": {},
     "output_type": "execute_result"
    }
   ],
   "source": [
    "raw"
   ]
  },
  {
   "cell_type": "code",
   "execution_count": 13,
   "metadata": {},
   "outputs": [
    {
     "name": "stderr",
     "output_type": "stream",
     "text": [
      "/opt/anaconda3/lib/python3.9/site-packages/finrl/meta/preprocessor/preprocessors.py:158: FutureWarning: The frame.append method is deprecated and will be removed from pandas in a future version. Use pandas.concat instead.\n",
      "  indicator_df = indicator_df.append(\n",
      "/opt/anaconda3/lib/python3.9/site-packages/finrl/meta/preprocessor/preprocessors.py:158: FutureWarning: The frame.append method is deprecated and will be removed from pandas in a future version. Use pandas.concat instead.\n",
      "  indicator_df = indicator_df.append(\n",
      "/opt/anaconda3/lib/python3.9/site-packages/finrl/meta/preprocessor/preprocessors.py:158: FutureWarning: The frame.append method is deprecated and will be removed from pandas in a future version. Use pandas.concat instead.\n",
      "  indicator_df = indicator_df.append(\n",
      "/opt/anaconda3/lib/python3.9/site-packages/finrl/meta/preprocessor/preprocessors.py:158: FutureWarning: The frame.append method is deprecated and will be removed from pandas in a future version. Use pandas.concat instead.\n",
      "  indicator_df = indicator_df.append(\n",
      "/opt/anaconda3/lib/python3.9/site-packages/finrl/meta/preprocessor/preprocessors.py:158: FutureWarning: The frame.append method is deprecated and will be removed from pandas in a future version. Use pandas.concat instead.\n",
      "  indicator_df = indicator_df.append(\n",
      "/opt/anaconda3/lib/python3.9/site-packages/finrl/meta/preprocessor/preprocessors.py:158: FutureWarning: The frame.append method is deprecated and will be removed from pandas in a future version. Use pandas.concat instead.\n",
      "  indicator_df = indicator_df.append(\n",
      "/opt/anaconda3/lib/python3.9/site-packages/finrl/meta/preprocessor/preprocessors.py:158: FutureWarning: The frame.append method is deprecated and will be removed from pandas in a future version. Use pandas.concat instead.\n",
      "  indicator_df = indicator_df.append(\n",
      "/opt/anaconda3/lib/python3.9/site-packages/finrl/meta/preprocessor/preprocessors.py:158: FutureWarning: The frame.append method is deprecated and will be removed from pandas in a future version. Use pandas.concat instead.\n",
      "  indicator_df = indicator_df.append(\n"
     ]
    },
    {
     "name": "stdout",
     "output_type": "stream",
     "text": [
      "Successfully added technical indicators\n",
      "Successfully added turbulence index\n"
     ]
    }
   ],
   "source": [
    "fe = FeatureEngineer(\n",
    "                    use_technical_indicator=True,\n",
    "                    tech_indicator_list = INDICATORS,\n",
    "                    use_turbulence=True,\n",
    "                    user_defined_feature = False)\n",
    "\n",
    "processed = fe.preprocess_data(raw)\n",
    "processed = processed.copy()\n",
    "processed = processed.fillna(0)\n",
    "processed = processed.replace(np.inf,0)"
   ]
  },
  {
   "cell_type": "code",
   "execution_count": 14,
   "metadata": {},
   "outputs": [
    {
     "data": {
      "text/html": [
       "<div>\n",
       "<style scoped>\n",
       "    .dataframe tbody tr th:only-of-type {\n",
       "        vertical-align: middle;\n",
       "    }\n",
       "\n",
       "    .dataframe tbody tr th {\n",
       "        vertical-align: top;\n",
       "    }\n",
       "\n",
       "    .dataframe thead th {\n",
       "        text-align: right;\n",
       "    }\n",
       "</style>\n",
       "<table border=\"1\" class=\"dataframe\">\n",
       "  <thead>\n",
       "    <tr style=\"text-align: right;\">\n",
       "      <th></th>\n",
       "      <th>date</th>\n",
       "      <th>open</th>\n",
       "      <th>high</th>\n",
       "      <th>low</th>\n",
       "      <th>close</th>\n",
       "      <th>volume</th>\n",
       "      <th>tic</th>\n",
       "      <th>macd</th>\n",
       "      <th>rsi_30</th>\n",
       "      <th>cci_30</th>\n",
       "      <th>dx_30</th>\n",
       "      <th>close_30_sma</th>\n",
       "      <th>close_60_sma</th>\n",
       "      <th>boll_ub</th>\n",
       "      <th>boll_lb</th>\n",
       "      <th>turbulence</th>\n",
       "    </tr>\n",
       "  </thead>\n",
       "  <tbody>\n",
       "    <tr>\n",
       "      <th>0</th>\n",
       "      <td>2010-01-03 18:10:00</td>\n",
       "      <td>1.61592</td>\n",
       "      <td>1.61592</td>\n",
       "      <td>1.61578</td>\n",
       "      <td>1.61592</td>\n",
       "      <td>3</td>\n",
       "      <td>True</td>\n",
       "      <td>0.00000</td>\n",
       "      <td>100.00000</td>\n",
       "      <td>66.66667</td>\n",
       "      <td>100.00000</td>\n",
       "      <td>1.61592</td>\n",
       "      <td>1.61592</td>\n",
       "      <td>1.61770</td>\n",
       "      <td>1.61507</td>\n",
       "      <td>0.00000</td>\n",
       "    </tr>\n",
       "    <tr>\n",
       "      <th>1</th>\n",
       "      <td>2010-01-03 18:20:00</td>\n",
       "      <td>1.61601</td>\n",
       "      <td>1.61685</td>\n",
       "      <td>1.61567</td>\n",
       "      <td>1.61685</td>\n",
       "      <td>3</td>\n",
       "      <td>True</td>\n",
       "      <td>0.00002</td>\n",
       "      <td>100.00000</td>\n",
       "      <td>66.66667</td>\n",
       "      <td>100.00000</td>\n",
       "      <td>1.61638</td>\n",
       "      <td>1.61638</td>\n",
       "      <td>1.61770</td>\n",
       "      <td>1.61507</td>\n",
       "      <td>0.00000</td>\n",
       "    </tr>\n",
       "    <tr>\n",
       "      <th>2</th>\n",
       "      <td>2010-01-03 18:25:00</td>\n",
       "      <td>1.61635</td>\n",
       "      <td>1.61635</td>\n",
       "      <td>1.61575</td>\n",
       "      <td>1.61635</td>\n",
       "      <td>4</td>\n",
       "      <td>True</td>\n",
       "      <td>0.00001</td>\n",
       "      <td>64.26019</td>\n",
       "      <td>-3.37079</td>\n",
       "      <td>100.00000</td>\n",
       "      <td>1.61637</td>\n",
       "      <td>1.61637</td>\n",
       "      <td>1.61730</td>\n",
       "      <td>1.61544</td>\n",
       "      <td>0.00000</td>\n",
       "    </tr>\n",
       "    <tr>\n",
       "      <th>3</th>\n",
       "      <td>2010-01-03 18:30:00</td>\n",
       "      <td>1.61560</td>\n",
       "      <td>1.61635</td>\n",
       "      <td>1.61535</td>\n",
       "      <td>1.61610</td>\n",
       "      <td>5</td>\n",
       "      <td>True</td>\n",
       "      <td>-0.00000</td>\n",
       "      <td>54.23436</td>\n",
       "      <td>-56.66667</td>\n",
       "      <td>34.09514</td>\n",
       "      <td>1.61631</td>\n",
       "      <td>1.61631</td>\n",
       "      <td>1.61711</td>\n",
       "      <td>1.61550</td>\n",
       "      <td>0.00000</td>\n",
       "    </tr>\n",
       "    <tr>\n",
       "      <th>4</th>\n",
       "      <td>2010-01-03 18:35:00</td>\n",
       "      <td>1.61635</td>\n",
       "      <td>1.61635</td>\n",
       "      <td>1.61635</td>\n",
       "      <td>1.61635</td>\n",
       "      <td>1</td>\n",
       "      <td>True</td>\n",
       "      <td>-0.00000</td>\n",
       "      <td>60.59439</td>\n",
       "      <td>65.60284</td>\n",
       "      <td>34.09514</td>\n",
       "      <td>1.61631</td>\n",
       "      <td>1.61631</td>\n",
       "      <td>1.61701</td>\n",
       "      <td>1.61561</td>\n",
       "      <td>0.00000</td>\n",
       "    </tr>\n",
       "  </tbody>\n",
       "</table>\n",
       "</div>"
      ],
      "text/plain": [
       "                 date    open    high     low   close  volume   tic     macd  \\\n",
       "0 2010-01-03 18:10:00 1.61592 1.61592 1.61578 1.61592       3  True  0.00000   \n",
       "1 2010-01-03 18:20:00 1.61601 1.61685 1.61567 1.61685       3  True  0.00002   \n",
       "2 2010-01-03 18:25:00 1.61635 1.61635 1.61575 1.61635       4  True  0.00001   \n",
       "3 2010-01-03 18:30:00 1.61560 1.61635 1.61535 1.61610       5  True -0.00000   \n",
       "4 2010-01-03 18:35:00 1.61635 1.61635 1.61635 1.61635       1  True -0.00000   \n",
       "\n",
       "     rsi_30    cci_30     dx_30  close_30_sma  close_60_sma  boll_ub  boll_lb  \\\n",
       "0 100.00000  66.66667 100.00000       1.61592       1.61592  1.61770  1.61507   \n",
       "1 100.00000  66.66667 100.00000       1.61638       1.61638  1.61770  1.61507   \n",
       "2  64.26019  -3.37079 100.00000       1.61637       1.61637  1.61730  1.61544   \n",
       "3  54.23436 -56.66667  34.09514       1.61631       1.61631  1.61711  1.61550   \n",
       "4  60.59439  65.60284  34.09514       1.61631       1.61631  1.61701  1.61561   \n",
       "\n",
       "   turbulence  \n",
       "0     0.00000  \n",
       "1     0.00000  \n",
       "2     0.00000  \n",
       "3     0.00000  \n",
       "4     0.00000  "
      ]
     },
     "execution_count": 14,
     "metadata": {},
     "output_type": "execute_result"
    }
   ],
   "source": [
    "processed.head()"
   ]
  },
  {
   "cell_type": "code",
   "execution_count": 15,
   "metadata": {},
   "outputs": [
    {
     "name": "stdout",
     "output_type": "stream",
     "text": [
      "952904\n",
      "17278\n"
     ]
    }
   ],
   "source": [
    "train = data_split(processed, TRAIN_START,TRAIN_END)\n",
    "trade = data_split(processed, TRADE_START,TRADE_END)\n",
    "print(len(train))\n",
    "print(len(trade))"
   ]
  },
  {
   "cell_type": "code",
   "execution_count": 16,
   "metadata": {},
   "outputs": [
    {
     "name": "stdout",
     "output_type": "stream",
     "text": [
      "Stock Dimension: 1, State Space: 11\n"
     ]
    }
   ],
   "source": [
    "stock_dimension = len(train.tic.unique())\n",
    "state_space = 1 + 2*stock_dimension + len(INDICATORS)*stock_dimension\n",
    "print(f\"Stock Dimension: {stock_dimension}, State Space: {state_space}\")"
   ]
  },
  {
   "cell_type": "code",
   "execution_count": 35,
   "metadata": {},
   "outputs": [],
   "source": [
    "buy_cost_list = sell_cost_list = [0.001] * stock_dimension\n",
    "num_stock_shares = [0] * stock_dimension\n",
    "\n",
    "env_kwargs = {\n",
    "    \"hmax\": 100,\n",
    "    \"initial_amount\": 1000000,\n",
    "    \"num_stock_shares\": num_stock_shares,\n",
    "    \"buy_cost_pct\": buy_cost_list,\n",
    "    \"sell_cost_pct\": sell_cost_list,\n",
    "    \"state_space\": state_space,\n",
    "    \"stock_dim\": stock_dimension,\n",
    "    \"tech_indicator_list\": INDICATORS,\n",
    "    \"action_space\": stock_dimension,\n",
    "    \"reward_scaling\": 1e-4\n",
    "}\n",
    "\n",
    "\n",
    "e_train_gym = StockTradingEnv(df = train, **env_kwargs)"
   ]
  },
  {
   "cell_type": "code",
   "execution_count": 36,
   "metadata": {},
   "outputs": [
    {
     "name": "stdout",
     "output_type": "stream",
     "text": [
      "<class 'stable_baselines3.common.vec_env.dummy_vec_env.DummyVecEnv'>\n"
     ]
    }
   ],
   "source": [
    "env_train, _ = e_train_gym.get_sb_env()\n",
    "print(type(env_train))"
   ]
  },
  {
   "cell_type": "code",
   "execution_count": 19,
   "metadata": {},
   "outputs": [],
   "source": [
    "agent = DRLAgent(env = env_train)\n",
    "\n",
    "if_using_a2c = False\n",
    "if_using_ddpg = False\n",
    "if_using_ppo = False\n",
    "if_using_td3 = False\n",
    "if_using_sac = True"
   ]
  },
  {
   "cell_type": "code",
   "execution_count": 37,
   "metadata": {},
   "outputs": [
    {
     "name": "stdout",
     "output_type": "stream",
     "text": [
      "{'batch_size': 128, 'buffer_size': 100000, 'learning_rate': 0.0001, 'learning_starts': 100, 'ent_coef': 'auto_0.1'}\n",
      "Using cpu device\n",
      "Logging to results/sac\n"
     ]
    }
   ],
   "source": [
    "agent = DRLAgent(env = env_train)\n",
    "SAC_PARAMS = {\n",
    "    \"batch_size\": 128,\n",
    "    \"buffer_size\": 100000,\n",
    "    \"learning_rate\": 0.0001,\n",
    "    \"learning_starts\": 100,\n",
    "    \"ent_coef\": \"auto_0.1\",\n",
    "}\n",
    "\n",
    "model_sac = agent.get_model(\"sac\",model_kwargs = SAC_PARAMS)\n",
    "\n",
    "if if_using_sac:\n",
    "  # set up logger\n",
    "  tmp_path = RESULTS_DIR + '/sac'\n",
    "  new_logger_sac = configure(tmp_path, [\"stdout\", \"csv\", \"tensorboard\"])\n",
    "  # Set new logger\n",
    "  model_sac.set_logger(new_logger_sac)"
   ]
  },
  {
   "cell_type": "code",
   "execution_count": null,
   "metadata": {},
   "outputs": [],
   "source": [
    "trained_sac = agent.train_model(model=model_sac, \n",
    "                             tb_log_name='sac',\n",
    "                             total_timesteps=100000) if if_using_sac else None"
   ]
  },
  {
   "cell_type": "code",
   "execution_count": 22,
   "metadata": {},
   "outputs": [],
   "source": [
    "data_risk_indicator = processed[(processed.date<TRAIN_END) & (processed.date>=TRAIN_START)]\n",
    "insample_risk_indicator = data_risk_indicator.drop_duplicates(subset=['date'])"
   ]
  },
  {
   "cell_type": "code",
   "execution_count": 23,
   "metadata": {},
   "outputs": [
    {
     "data": {
      "text/plain": [
       "count   952904.00000\n",
       "mean         1.18676\n",
       "std         19.64013\n",
       "min          0.00000\n",
       "25%          0.03866\n",
       "50%          0.21841\n",
       "75%          0.89558\n",
       "max      17375.80171\n",
       "Name: turbulence, dtype: float64"
      ]
     },
     "execution_count": 23,
     "metadata": {},
     "output_type": "execute_result"
    }
   ],
   "source": [
    "insample_risk_indicator.turbulence.describe()"
   ]
  },
  {
   "cell_type": "code",
   "execution_count": 24,
   "metadata": {},
   "outputs": [
    {
     "data": {
      "text/plain": [
       "21.428691379754923"
      ]
     },
     "execution_count": 24,
     "metadata": {},
     "output_type": "execute_result"
    }
   ],
   "source": [
    "insample_risk_indicator.turbulence.quantile(0.996)"
   ]
  },
  {
   "cell_type": "code",
   "execution_count": 25,
   "metadata": {},
   "outputs": [],
   "source": [
    "e_trade_gym = StockTradingEnv(df = trade, turbulence_threshold = 70, **env_kwargs)"
   ]
  },
  {
   "cell_type": "code",
   "execution_count": 26,
   "metadata": {},
   "outputs": [
    {
     "data": {
      "text/html": [
       "<div>\n",
       "<style scoped>\n",
       "    .dataframe tbody tr th:only-of-type {\n",
       "        vertical-align: middle;\n",
       "    }\n",
       "\n",
       "    .dataframe tbody tr th {\n",
       "        vertical-align: top;\n",
       "    }\n",
       "\n",
       "    .dataframe thead th {\n",
       "        text-align: right;\n",
       "    }\n",
       "</style>\n",
       "<table border=\"1\" class=\"dataframe\">\n",
       "  <thead>\n",
       "    <tr style=\"text-align: right;\">\n",
       "      <th></th>\n",
       "      <th>date</th>\n",
       "      <th>open</th>\n",
       "      <th>high</th>\n",
       "      <th>low</th>\n",
       "      <th>close</th>\n",
       "      <th>volume</th>\n",
       "      <th>tic</th>\n",
       "      <th>macd</th>\n",
       "      <th>rsi_30</th>\n",
       "      <th>cci_30</th>\n",
       "      <th>dx_30</th>\n",
       "      <th>close_30_sma</th>\n",
       "      <th>close_60_sma</th>\n",
       "      <th>boll_ub</th>\n",
       "      <th>boll_lb</th>\n",
       "      <th>turbulence</th>\n",
       "    </tr>\n",
       "  </thead>\n",
       "  <tbody>\n",
       "    <tr>\n",
       "      <th>0</th>\n",
       "      <td>2022-10-02 21:00:00</td>\n",
       "      <td>1.11700</td>\n",
       "      <td>1.11700</td>\n",
       "      <td>1.11691</td>\n",
       "      <td>1.11691</td>\n",
       "      <td>2</td>\n",
       "      <td>True</td>\n",
       "      <td>0.00021</td>\n",
       "      <td>56.47710</td>\n",
       "      <td>134.17279</td>\n",
       "      <td>30.35166</td>\n",
       "      <td>1.11597</td>\n",
       "      <td>1.11467</td>\n",
       "      <td>1.11719</td>\n",
       "      <td>1.11440</td>\n",
       "      <td>0.00370</td>\n",
       "    </tr>\n",
       "    <tr>\n",
       "      <th>1</th>\n",
       "      <td>2022-10-02 21:05:00</td>\n",
       "      <td>1.11703</td>\n",
       "      <td>1.11706</td>\n",
       "      <td>1.11692</td>\n",
       "      <td>1.11692</td>\n",
       "      <td>9</td>\n",
       "      <td>True</td>\n",
       "      <td>0.00027</td>\n",
       "      <td>56.50526</td>\n",
       "      <td>125.63667</td>\n",
       "      <td>31.17305</td>\n",
       "      <td>1.11599</td>\n",
       "      <td>1.11477</td>\n",
       "      <td>1.11731</td>\n",
       "      <td>1.11436</td>\n",
       "      <td>0.00004</td>\n",
       "    </tr>\n",
       "    <tr>\n",
       "      <th>2</th>\n",
       "      <td>2022-10-02 21:10:00</td>\n",
       "      <td>1.11699</td>\n",
       "      <td>1.11776</td>\n",
       "      <td>1.11643</td>\n",
       "      <td>1.11776</td>\n",
       "      <td>55</td>\n",
       "      <td>True</td>\n",
       "      <td>0.00039</td>\n",
       "      <td>58.82029</td>\n",
       "      <td>151.33477</td>\n",
       "      <td>39.99800</td>\n",
       "      <td>1.11605</td>\n",
       "      <td>1.11488</td>\n",
       "      <td>1.11764</td>\n",
       "      <td>1.11426</td>\n",
       "      <td>0.52150</td>\n",
       "    </tr>\n",
       "    <tr>\n",
       "      <th>3</th>\n",
       "      <td>2022-10-02 21:15:00</td>\n",
       "      <td>1.11774</td>\n",
       "      <td>1.11804</td>\n",
       "      <td>1.11724</td>\n",
       "      <td>1.11775</td>\n",
       "      <td>92</td>\n",
       "      <td>True</td>\n",
       "      <td>0.00047</td>\n",
       "      <td>58.78176</td>\n",
       "      <td>176.68899</td>\n",
       "      <td>43.11663</td>\n",
       "      <td>1.11608</td>\n",
       "      <td>1.11500</td>\n",
       "      <td>1.11792</td>\n",
       "      <td>1.11423</td>\n",
       "      <td>0.00025</td>\n",
       "    </tr>\n",
       "    <tr>\n",
       "      <th>4</th>\n",
       "      <td>2022-10-02 21:20:00</td>\n",
       "      <td>1.11774</td>\n",
       "      <td>1.11797</td>\n",
       "      <td>1.11772</td>\n",
       "      <td>1.11795</td>\n",
       "      <td>27</td>\n",
       "      <td>True</td>\n",
       "      <td>0.00055</td>\n",
       "      <td>59.33292</td>\n",
       "      <td>178.86370</td>\n",
       "      <td>43.11663</td>\n",
       "      <td>1.11613</td>\n",
       "      <td>1.11511</td>\n",
       "      <td>1.11813</td>\n",
       "      <td>1.11413</td>\n",
       "      <td>0.02736</td>\n",
       "    </tr>\n",
       "  </tbody>\n",
       "</table>\n",
       "</div>"
      ],
      "text/plain": [
       "                 date    open    high     low   close  volume   tic    macd  \\\n",
       "0 2022-10-02 21:00:00 1.11700 1.11700 1.11691 1.11691       2  True 0.00021   \n",
       "1 2022-10-02 21:05:00 1.11703 1.11706 1.11692 1.11692       9  True 0.00027   \n",
       "2 2022-10-02 21:10:00 1.11699 1.11776 1.11643 1.11776      55  True 0.00039   \n",
       "3 2022-10-02 21:15:00 1.11774 1.11804 1.11724 1.11775      92  True 0.00047   \n",
       "4 2022-10-02 21:20:00 1.11774 1.11797 1.11772 1.11795      27  True 0.00055   \n",
       "\n",
       "    rsi_30    cci_30    dx_30  close_30_sma  close_60_sma  boll_ub  boll_lb  \\\n",
       "0 56.47710 134.17279 30.35166       1.11597       1.11467  1.11719  1.11440   \n",
       "1 56.50526 125.63667 31.17305       1.11599       1.11477  1.11731  1.11436   \n",
       "2 58.82029 151.33477 39.99800       1.11605       1.11488  1.11764  1.11426   \n",
       "3 58.78176 176.68899 43.11663       1.11608       1.11500  1.11792  1.11423   \n",
       "4 59.33292 178.86370 43.11663       1.11613       1.11511  1.11813  1.11413   \n",
       "\n",
       "   turbulence  \n",
       "0     0.00370  \n",
       "1     0.00004  \n",
       "2     0.52150  \n",
       "3     0.00025  \n",
       "4     0.02736  "
      ]
     },
     "execution_count": 26,
     "metadata": {},
     "output_type": "execute_result"
    }
   ],
   "source": [
    "trade.head()"
   ]
  },
  {
   "cell_type": "code",
   "execution_count": 27,
   "metadata": {},
   "outputs": [
    {
     "name": "stdout",
     "output_type": "stream",
     "text": [
      "hit end!\n"
     ]
    }
   ],
   "source": [
    "trained_model = trained_sac\n",
    "df_account_value, df_actions = DRLAgent.DRL_prediction(\n",
    "    model=trained_model, \n",
    "    environment = e_trade_gym)"
   ]
  },
  {
   "cell_type": "code",
   "execution_count": 28,
   "metadata": {},
   "outputs": [
    {
     "data": {
      "text/plain": [
       "(17278, 2)"
      ]
     },
     "execution_count": 28,
     "metadata": {},
     "output_type": "execute_result"
    }
   ],
   "source": [
    "df_account_value.shape"
   ]
  },
  {
   "cell_type": "code",
   "execution_count": 29,
   "metadata": {},
   "outputs": [
    {
     "data": {
      "text/html": [
       "<div>\n",
       "<style scoped>\n",
       "    .dataframe tbody tr th:only-of-type {\n",
       "        vertical-align: middle;\n",
       "    }\n",
       "\n",
       "    .dataframe tbody tr th {\n",
       "        vertical-align: top;\n",
       "    }\n",
       "\n",
       "    .dataframe thead th {\n",
       "        text-align: right;\n",
       "    }\n",
       "</style>\n",
       "<table border=\"1\" class=\"dataframe\">\n",
       "  <thead>\n",
       "    <tr style=\"text-align: right;\">\n",
       "      <th></th>\n",
       "      <th>date</th>\n",
       "      <th>account_value</th>\n",
       "    </tr>\n",
       "  </thead>\n",
       "  <tbody>\n",
       "    <tr>\n",
       "      <th>17273</th>\n",
       "      <td>2022-12-23 21:35:00</td>\n",
       "      <td>1000000.00000</td>\n",
       "    </tr>\n",
       "    <tr>\n",
       "      <th>17274</th>\n",
       "      <td>2022-12-23 21:40:00</td>\n",
       "      <td>1000000.00000</td>\n",
       "    </tr>\n",
       "    <tr>\n",
       "      <th>17275</th>\n",
       "      <td>2022-12-23 21:45:00</td>\n",
       "      <td>1000000.00000</td>\n",
       "    </tr>\n",
       "    <tr>\n",
       "      <th>17276</th>\n",
       "      <td>2022-12-23 21:50:00</td>\n",
       "      <td>1000000.00000</td>\n",
       "    </tr>\n",
       "    <tr>\n",
       "      <th>17277</th>\n",
       "      <td>2022-12-23 21:55:00</td>\n",
       "      <td>1000000.00000</td>\n",
       "    </tr>\n",
       "  </tbody>\n",
       "</table>\n",
       "</div>"
      ],
      "text/plain": [
       "                     date  account_value\n",
       "17273 2022-12-23 21:35:00  1000000.00000\n",
       "17274 2022-12-23 21:40:00  1000000.00000\n",
       "17275 2022-12-23 21:45:00  1000000.00000\n",
       "17276 2022-12-23 21:50:00  1000000.00000\n",
       "17277 2022-12-23 21:55:00  1000000.00000"
      ]
     },
     "execution_count": 29,
     "metadata": {},
     "output_type": "execute_result"
    }
   ],
   "source": [
    "df_account_value.tail()"
   ]
  },
  {
   "cell_type": "code",
   "execution_count": 30,
   "metadata": {},
   "outputs": [
    {
     "data": {
      "text/html": [
       "<div>\n",
       "<style scoped>\n",
       "    .dataframe tbody tr th:only-of-type {\n",
       "        vertical-align: middle;\n",
       "    }\n",
       "\n",
       "    .dataframe tbody tr th {\n",
       "        vertical-align: top;\n",
       "    }\n",
       "\n",
       "    .dataframe thead th {\n",
       "        text-align: right;\n",
       "    }\n",
       "</style>\n",
       "<table border=\"1\" class=\"dataframe\">\n",
       "  <thead>\n",
       "    <tr style=\"text-align: right;\">\n",
       "      <th></th>\n",
       "      <th>date</th>\n",
       "      <th>actions</th>\n",
       "    </tr>\n",
       "  </thead>\n",
       "  <tbody>\n",
       "    <tr>\n",
       "      <th>0</th>\n",
       "      <td>2022-10-02 21:00:00</td>\n",
       "      <td>[0]</td>\n",
       "    </tr>\n",
       "    <tr>\n",
       "      <th>1</th>\n",
       "      <td>2022-10-02 21:05:00</td>\n",
       "      <td>[0]</td>\n",
       "    </tr>\n",
       "    <tr>\n",
       "      <th>2</th>\n",
       "      <td>2022-10-02 21:10:00</td>\n",
       "      <td>[0]</td>\n",
       "    </tr>\n",
       "    <tr>\n",
       "      <th>3</th>\n",
       "      <td>2022-10-02 21:15:00</td>\n",
       "      <td>[0]</td>\n",
       "    </tr>\n",
       "    <tr>\n",
       "      <th>4</th>\n",
       "      <td>2022-10-02 21:20:00</td>\n",
       "      <td>[0]</td>\n",
       "    </tr>\n",
       "  </tbody>\n",
       "</table>\n",
       "</div>"
      ],
      "text/plain": [
       "                 date actions\n",
       "0 2022-10-02 21:00:00     [0]\n",
       "1 2022-10-02 21:05:00     [0]\n",
       "2 2022-10-02 21:10:00     [0]\n",
       "3 2022-10-02 21:15:00     [0]\n",
       "4 2022-10-02 21:20:00     [0]"
      ]
     },
     "execution_count": 30,
     "metadata": {},
     "output_type": "execute_result"
    }
   ],
   "source": [
    "df_actions.head()"
   ]
  },
  {
   "cell_type": "code",
   "execution_count": 31,
   "metadata": {},
   "outputs": [
    {
     "data": {
      "text/plain": [
       "17277"
      ]
     },
     "execution_count": 31,
     "metadata": {},
     "output_type": "execute_result"
    }
   ],
   "source": [
    "len(df_actions)"
   ]
  },
  {
   "cell_type": "code",
   "execution_count": 32,
   "metadata": {},
   "outputs": [
    {
     "name": "stdout",
     "output_type": "stream",
     "text": [
      "==============Get Backtest Results===========\n",
      "Annual return         0.00000\n",
      "Cumulative returns    0.00000\n",
      "Annual volatility     0.00000\n",
      "Sharpe ratio              NaN\n",
      "Calmar ratio              NaN\n",
      "Stability             0.00000\n",
      "Max drawdown          0.00000\n",
      "Omega ratio               NaN\n",
      "Sortino ratio             NaN\n",
      "Skew                      NaN\n",
      "Kurtosis                  NaN\n",
      "Tail ratio                NaN\n",
      "Daily value at risk   0.00000\n",
      "dtype: float64\n"
     ]
    },
    {
     "name": "stderr",
     "output_type": "stream",
     "text": [
      "/opt/anaconda3/lib/python3.9/site-packages/pyfolio/timeseries.py:724: FutureWarning: The default dtype for empty Series will be 'object' instead of 'float64' in a future version. Specify a dtype explicitly to silence this warning.\n",
      "  stats = pd.Series()\n",
      "/opt/anaconda3/lib/python3.9/site-packages/empyrical/stats.py:710: RuntimeWarning: invalid value encountered in divide\n",
      "  np.divide(\n",
      "/opt/anaconda3/lib/python3.9/site-packages/empyrical/stats.py:799: RuntimeWarning: invalid value encountered in divide\n",
      "  np.divide(average_annual_return, annualized_downside_risk, out=out)\n",
      "/opt/anaconda3/lib/python3.9/site-packages/empyrical/stats.py:1527: RuntimeWarning: invalid value encountered in scalar divide\n",
      "  return np.abs(np.percentile(returns, 95)) / \\\n"
     ]
    }
   ],
   "source": [
    "print(\"==============Get Backtest Results===========\")\n",
    "now = datetime.datetime.now().strftime('%Y%m%d-%Hh%M')\n",
    "\n",
    "perf_stats_all = backtest_stats(account_value=df_account_value)\n",
    "perf_stats_all = pd.DataFrame(perf_stats_all)\n",
    "perf_stats_all.to_csv(\"./\"+RESULTS_DIR+\"/perf_stats_all_\"+now+'.csv')"
   ]
  },
  {
   "cell_type": "code",
   "execution_count": null,
   "metadata": {},
   "outputs": [],
   "source": []
  }
 ],
 "metadata": {
  "kernelspec": {
   "display_name": "base",
   "language": "python",
   "name": "python3"
  },
  "language_info": {
   "codemirror_mode": {
    "name": "ipython",
    "version": 3
   },
   "file_extension": ".py",
   "mimetype": "text/x-python",
   "name": "python",
   "nbconvert_exporter": "python",
   "pygments_lexer": "ipython3",
   "version": "3.9.13 (main, Aug 25 2022, 18:24:45) \n[Clang 12.0.0 ]"
  },
  "orig_nbformat": 4,
  "vscode": {
   "interpreter": {
    "hash": "40d3a090f54c6569ab1632332b64b2c03c39dcf918b08424e98f38b5ae0af88f"
   }
  }
 },
 "nbformat": 4,
 "nbformat_minor": 2
}
